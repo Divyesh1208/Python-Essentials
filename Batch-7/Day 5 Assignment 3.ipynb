{
 "cells": [
  {
   "cell_type": "code",
   "execution_count": 8,
   "metadata": {},
   "outputs": [
    {
     "name": "stdout",
     "output_type": "stream",
     "text": [
      "Hello. I'm divyesh. How are you?\n"
     ]
    }
   ],
   "source": [
    "def sentenceCapitalizer (string1: str):\n",
    "    sentences = string1.split(\". \")\n",
    "    sentences2 = [sentence[0].capitalize() + sentence[1:] for sentence in sentences]\n",
    "    string2 = '. '.join(sentences2)\n",
    "    return string2\n",
    "print (sentenceCapitalizer(\"hello. i'm divyesh. how are you?\"))"
   ]
  },
  {
   "cell_type": "code",
   "execution_count": null,
   "metadata": {},
   "outputs": [],
   "source": []
  }
 ],
 "metadata": {
  "kernelspec": {
   "display_name": "Python 3",
   "language": "python",
   "name": "python3"
  },
  "language_info": {
   "codemirror_mode": {
    "name": "ipython",
    "version": 3
   },
   "file_extension": ".py",
   "mimetype": "text/x-python",
   "name": "python",
   "nbconvert_exporter": "python",
   "pygments_lexer": "ipython3",
   "version": "3.8.3"
  }
 },
 "nbformat": 4,
 "nbformat_minor": 4
}
