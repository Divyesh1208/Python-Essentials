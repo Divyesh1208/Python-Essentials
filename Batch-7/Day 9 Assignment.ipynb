{
 "cells": [
  {
   "cell_type": "markdown",
   "metadata": {},
   "source": [
    "# Question 2 "
   ]
  },
  {
   "cell_type": "code",
   "execution_count": 1,
   "metadata": {},
   "outputs": [
    {
     "name": "stdout",
     "output_type": "stream",
     "text": [
      "1\n",
      "64\n",
      "125\n",
      "153\n",
      "216\n",
      "370\n",
      "371\n",
      "407\n",
      "729\n"
     ]
    }
   ],
   "source": [
    "for num in range(1,1000):\n",
    "  temp=num\n",
    "  sum=0\n",
    "  while temp>0:\n",
    "      digit=temp%10\n",
    "      sum=sum+digit**3\n",
    "      temp=temp//10\n",
    "      if sum==num:\n",
    "           print (num)"
   ]
  },
  {
   "cell_type": "code",
   "execution_count": 4,
   "metadata": {},
   "outputs": [
    {
     "ename": "SyntaxError",
     "evalue": "invalid character in identifier (<ipython-input-4-7115f5efff68>, line 2)",
     "output_type": "error",
     "traceback": [
      "\u001b[1;36m  File \u001b[1;32m\"<ipython-input-4-7115f5efff68>\"\u001b[1;36m, line \u001b[1;32m2\u001b[0m\n\u001b[1;33m    \u001b[0m\n\u001b[1;37m    ^\u001b[0m\n\u001b[1;31mSyntaxError\u001b[0m\u001b[1;31m:\u001b[0m invalid character in identifier\n"
     ]
    }
   ],
   "source": [
    "import unittest \n",
    "  \n",
    "class TestStringMethods(unittest.TestCase): \n",
    "      \n",
    "    def setUp(self): \n",
    "        pass\n",
    "  \n",
    "    def test_strings_a(self): \n",
    "        self.assertEqual( 'a'*4, 'aaaa') \n",
    "  \n",
    "    def test_upper(self):         \n",
    "        self.assertEqual('foo'.upper(), 'FOO') \n",
    "  \n",
    "    def test_isupper(self):         \n",
    "        self.assertTrue('FOO'.isupper()) \n",
    "        self.assertFalse('Foo'.isupper()) \n",
    "  \n",
    "    def test_strip(self):         \n",
    "        s = 'geeksforgeeks'\n",
    "        self.assertEqual(s.strip('geek'), 'sforgeeks') \n",
    "  \n",
    "    def test_split(self):         \n",
    "        s = 'hello world'\n",
    "        self.assertEqual(s.split(), ['hello', 'world']) \n",
    "        with self.assertRaises(TypeError): \n",
    "            s.split(2) \n",
    "  \n",
    "if __name__ == '__main__': \n",
    "    unittest.main() \n"
   ]
  },
  {
   "cell_type": "code",
   "execution_count": null,
   "metadata": {},
   "outputs": [],
   "source": []
  }
 ],
 "metadata": {
  "kernelspec": {
   "display_name": "Python 3",
   "language": "python",
   "name": "python3"
  },
  "language_info": {
   "codemirror_mode": {
    "name": "ipython",
    "version": 3
   },
   "file_extension": ".py",
   "mimetype": "text/x-python",
   "name": "python",
   "nbconvert_exporter": "python",
   "pygments_lexer": "ipython3",
   "version": "3.8.3"
  }
 },
 "nbformat": 4,
 "nbformat_minor": 4
}
