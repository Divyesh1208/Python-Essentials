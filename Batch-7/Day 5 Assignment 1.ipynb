{
 "cells": [
  {
   "cell_type": "code",
   "execution_count": 18,
   "metadata": {},
   "outputs": [
    {
     "name": "stdout",
     "output_type": "stream",
     "text": [
      "Listy : [9, 4, 5, 8, 10]\n",
      "Listy : [10, 5, 4]\n",
      "It's a Match.\n"
     ]
    }
   ],
   "source": [
    "test_list = [9, 4, 5, 8, 10] \n",
    "sub_list = [10, 5, 4]\n",
    "print (\"Listy : \" + str(test_list)) \n",
    "print (\"Listy : \" + str(sub_list))\n",
    "flag = 0\n",
    "if(all(x in test_list for x in sub_list)): \n",
    "    flag = 1\n",
    "    if (flag) : \n",
    "        print (\"It's a Match.\") \n",
    "    else : \n",
    "        print (\"It's Gone.\") "
   ]
  },
  {
   "cell_type": "code",
   "execution_count": null,
   "metadata": {},
   "outputs": [],
   "source": []
  }
 ],
 "metadata": {
  "kernelspec": {
   "display_name": "Python 3",
   "language": "python",
   "name": "python3"
  },
  "language_info": {
   "codemirror_mode": {
    "name": "ipython",
    "version": 3
   },
   "file_extension": ".py",
   "mimetype": "text/x-python",
   "name": "python",
   "nbconvert_exporter": "python",
   "pygments_lexer": "ipython3",
   "version": "3.8.3"
  }
 },
 "nbformat": 4,
 "nbformat_minor": 4
}
