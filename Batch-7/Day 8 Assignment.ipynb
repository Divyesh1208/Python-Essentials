{
 "cells": [
  {
   "cell_type": "markdown",
   "metadata": {},
   "source": [
    "# Assignment 1\n"
   ]
  },
  {
   "cell_type": "code",
   "execution_count": 1,
   "metadata": {},
   "outputs": [
    {
     "name": "stdout",
     "output_type": "stream",
     "text": [
      "Inside decorator\n",
      "Inside inner function\n",
      "I like geeksforgeeks\n",
      "Inside actual function\n"
     ]
    }
   ],
   "source": [
    "def decorator(*args, **kwargs): \n",
    "\tprint(\"Inside decorator\") \n",
    "\t\n",
    "\tdef inner(func): \n",
    "\t\t\n",
    "\t\t# code functionality here \n",
    "\t\tprint(\"Inside inner function\") \n",
    "\t\tprint(\"I like\", kwargs['like']) \n",
    "\t\t\n",
    "\t\tfunc() \n",
    "\t\t\n",
    "\t# reurning inner function\t \n",
    "\treturn inner \n",
    "\n",
    "@decorator(like = \"geeksforgeeks\") \n",
    "def my_func(): \n",
    "\tprint(\"Inside actual function\") \n"
   ]
  },
  {
   "cell_type": "markdown",
   "metadata": {},
   "source": [
    "# Assignmnet 2 "
   ]
  },
  {
   "cell_type": "code",
   "execution_count": 3,
   "metadata": {},
   "outputs": [
    {
     "name": "stdout",
     "output_type": "stream",
     "text": [
      "Can't divide by zero\n",
      "This is always executed\n"
     ]
    }
   ],
   "source": [
    "try: \n",
    "    k = 5//0 # raises divide by zero exception. \n",
    "    print(k) \n",
    "\n",
    "\n",
    "except ZeroDivisionError:\t \n",
    "    print(\"Can't divide by zero\") \n",
    "\n",
    "finally: \n",
    "    print('This is always executed') \n"
   ]
  },
  {
   "cell_type": "code",
   "execution_count": null,
   "metadata": {},
   "outputs": [],
   "source": []
  }
 ],
 "metadata": {
  "kernelspec": {
   "display_name": "Python 3",
   "language": "python",
   "name": "python3"
  },
  "language_info": {
   "codemirror_mode": {
    "name": "ipython",
    "version": 3
   },
   "file_extension": ".py",
   "mimetype": "text/x-python",
   "name": "python",
   "nbconvert_exporter": "python",
   "pygments_lexer": "ipython3",
   "version": "3.8.3"
  }
 },
 "nbformat": 4,
 "nbformat_minor": 4
}
